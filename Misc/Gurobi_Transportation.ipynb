{
 "cells": [
  {
   "cell_type": "code",
   "execution_count": 28,
   "metadata": {},
   "outputs": [
    {
     "data": {
      "text/plain": [
       "6"
      ]
     },
     "execution_count": 28,
     "metadata": {},
     "output_type": "execute_result"
    }
   ],
   "source": [
    "import pandas as pd\n",
    "C=pd.read_excel('12-transportation-input-1.xlsx',sheet_name='costs',index_col=0)\n",
    "S=pd.read_excel('12-transportation-input-1.xlsx',sheet_name='supply',index_col=0)['available']\n",
    "D=pd.read_excel('12-transportation-input-1.xlsx',sheet_name='demand',index_col=0)['needed']\n",
    "I = ['Little Rock','Urbana']\n",
    "J = ['Los Angeles','St. Louis','Detroit']\n",
    "S['Little Rock']"
   ]
  },
  {
   "cell_type": "code",
   "execution_count": 41,
   "metadata": {},
   "outputs": [
    {
     "name": "stdout",
     "output_type": "stream",
     "text": [
      "Warning: variable name \"X[Little Rock,Los Angeles]\" has a space\n",
      "Warning: to let Gurobi read it back, use rlp format\n",
      "\\ LP format - for model browsing. Use MPS format to capture full model detail.\n",
      "Minimize\n",
      "  250 X[Little_Rock,Los_Angeles] + 150 X[Little_Rock,St._Louis]\n",
      "   + 200 X[Little_Rock,Detroit] + 300 X[Urbana,Los_Angeles]\n",
      "   + 200 X[Urbana,St._Louis] + 150 X[Urbana,Detroit]\n",
      "Subject To\n",
      " R0: X[Little_Rock,Los_Angeles] + X[Little_Rock,St._Louis]\n",
      "   + X[Little_Rock,Detroit] <= 6\n",
      " R1: X[Urbana,Los_Angeles] + X[Urbana,St._Louis] + X[Urbana,Detroit] <= 6\n",
      " R2: X[Little_Rock,Los_Angeles] + X[Urbana,Los_Angeles] >= 2\n",
      " R3: X[Little_Rock,St._Louis] + X[Urbana,St._Louis] >= 5\n",
      " R4: X[Little_Rock,Detroit] + X[Urbana,Detroit] >= 4\n",
      "Bounds\n",
      "Generals\n",
      " X[Little_Rock,Los_Angeles] X[Little_Rock,St._Louis] X[Little_Rock,Detroit]\n",
      " X[Urbana,Los_Angeles] X[Urbana,St._Louis] X[Urbana,Detroit]\n",
      "End\n"
     ]
    }
   ],
   "source": [
    "# Write your code here\n",
    "from gurobipy import Model, GRB\n",
    "mod = Model()\n",
    "x = mod.addVars(I,J, name = 'X', vtype = GRB.INTEGER)\n",
    "mod.update()\n",
    "mod.setObjective(sum(C.loc[i,j]*x[i,j] for i in I for j in J), GRB.MINIMIZE)\n",
    "for i in I:\n",
    "    mod.addConstr(sum(x[i,j] for j in J) <= S[i])\n",
    "for j in J:\n",
    "    mod.addConstr(sum(x[i,j] for i in I) >= D[j])\n",
    "mod.write('12-transportation.lp')\n",
    "!cat 12-transportation.lp"
   ]
  },
  {
   "cell_type": "code",
   "execution_count": 38,
   "metadata": {},
   "outputs": [
    {
     "name": "stdout",
     "output_type": "stream",
     "text": [
      "<gurobi.TempConstr: <gurobi.LinExpr: X[Little Rock,Los Angeles] + X[Urbana,Los Angeles]> >= 2>\n",
      "<gurobi.TempConstr: <gurobi.LinExpr: X[Little Rock,St. Louis] + X[Urbana,St. Louis]> >= 5>\n",
      "<gurobi.TempConstr: <gurobi.LinExpr: X[Little Rock,Detroit] + X[Urbana,Detroit]> >= 4>\n"
     ]
    }
   ],
   "source": [
    "for j in J:\n",
    "    print(sum(x[i,j] for i in I) >= D[j])"
   ]
  },
  {
   "cell_type": "code",
   "execution_count": 23,
   "metadata": {},
   "outputs": [
    {
     "data": {
      "text/plain": [
       "<gurobi.LinExpr: 250.0 X[Little Rock,Los Angeles] + 150.0 X[Little Rock,St. Louis] + 200.0 X[Little Rock,Detroit] + 300.0 X[Urbana,Los Angeles] + 200.0 X[Urbana,St. Louis] + 150.0 X[Urbana,Detroit]>"
      ]
     },
     "execution_count": 23,
     "metadata": {},
     "output_type": "execute_result"
    }
   ],
   "source": []
  },
  {
   "cell_type": "markdown",
   "metadata": {},
   "source": [
    "**b)** Solve the the minimal cost as well as a plan for sending sales people, as in the sample output below."
   ]
  },
  {
   "cell_type": "code",
   "execution_count": 42,
   "metadata": {},
   "outputs": [
    {
     "name": "stdout",
     "output_type": "stream",
     "text": [
      "Gurobi Optimizer version 9.0.3 build v9.0.3rc0 (mac64)\n",
      "Optimize a model with 5 rows, 6 columns and 12 nonzeros\n",
      "Model fingerprint: 0x558541ce\n",
      "Variable types: 0 continuous, 6 integer (0 binary)\n",
      "Coefficient statistics:\n",
      "  Matrix range     [1e+00, 1e+00]\n",
      "  Objective range  [2e+02, 3e+02]\n",
      "  Bounds range     [0e+00, 0e+00]\n",
      "  RHS range        [2e+00, 6e+00]\n",
      "Presolve time: 0.00s\n",
      "Presolved: 5 rows, 6 columns, 12 nonzeros\n",
      "Variable types: 0 continuous, 6 integer (0 binary)\n",
      "Found heuristic solution: objective 1900.0000000\n",
      "\n",
      "Root relaxation: cutoff, 3 iterations, 0.00 seconds\n",
      "\n",
      "    Nodes    |    Current Node    |     Objective Bounds      |     Work\n",
      " Expl Unexpl |  Obj  Depth IntInf | Incumbent    BestBd   Gap | It/Node Time\n",
      "\n",
      "     0     0     cutoff    0      1900.00000 1900.00000  0.00%     -    0s\n",
      "\n",
      "Explored 0 nodes (3 simplex iterations) in 0.02 seconds\n",
      "Thread count was 8 (of 8 available processors)\n",
      "\n",
      "Solution count 1: 1900 \n",
      "\n",
      "Optimal solution found (tolerance 1.00e-04)\n",
      "Best objective 1.900000000000e+03, best bound 1.900000000000e+03, gap 0.0000%\n"
     ]
    }
   ],
   "source": [
    "# Write your code here\n",
    "mod.optimize()"
   ]
  },
  {
   "cell_type": "code",
   "execution_count": 43,
   "metadata": {},
   "outputs": [
    {
     "name": "stdout",
     "output_type": "stream",
     "text": [
      "Minimal cost: 1900.0\n"
     ]
    }
   ],
   "source": [
    "print(f'Minimal cost: {mod.objval}')\n"
   ]
  },
  {
   "cell_type": "code",
   "execution_count": 49,
   "metadata": {},
   "outputs": [
    {
     "name": "stdout",
     "output_type": "stream",
     "text": [
      "X[Little Rock,Los Angeles] = 2.0\n",
      "X[Little Rock,St. Louis] = 4.0\n",
      "X[Little Rock,Detroit] = -0.0\n",
      "X[Urbana,Los Angeles] = -0.0\n",
      "X[Urbana,St. Louis] = 1.0\n",
      "X[Urbana,Detroit] = 4.0\n"
     ]
    }
   ],
   "source": [
    "for i in I:\n",
    "    for j in J:\n",
    "        print(f'X[{i},{j}] = {x[i,j].X}')"
   ]
  }
 ],
 "metadata": {
  "kernelspec": {
   "display_name": "Python 3",
   "language": "python",
   "name": "python3"
  },
  "language_info": {
   "codemirror_mode": {
    "name": "ipython",
    "version": 3
   },
   "file_extension": ".py",
   "mimetype": "text/x-python",
   "name": "python",
   "nbconvert_exporter": "python",
   "pygments_lexer": "ipython3",
   "version": "3.8.3"
  },
  "varInspector": {
   "cols": {
    "lenName": 16,
    "lenType": 16,
    "lenVar": 40
   },
   "kernels_config": {
    "python": {
     "delete_cmd_postfix": "",
     "delete_cmd_prefix": "del ",
     "library": "var_list.py",
     "varRefreshCmd": "print(var_dic_list())"
    },
    "r": {
     "delete_cmd_postfix": ") ",
     "delete_cmd_prefix": "rm(",
     "library": "var_list.r",
     "varRefreshCmd": "cat(var_dic_list()) "
    }
   },
   "types_to_exclude": [
    "module",
    "function",
    "builtin_function_or_method",
    "instance",
    "_Feature"
   ],
   "window_display": false
  }
 },
 "nbformat": 4,
 "nbformat_minor": 2
}
