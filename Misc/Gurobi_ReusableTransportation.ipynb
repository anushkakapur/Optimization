{
 "cells": [
  {
   "cell_type": "markdown",
   "metadata": {},
   "source": [
    "The function should be able to take in any input file and create the corresponding output file to show optimized transportation."
   ]
  },
  {
   "cell_type": "code",
   "execution_count": 87,
   "metadata": {},
   "outputs": [],
   "source": [
    "import pandas as pd\n",
    "from gurobipy import Model, GRB\n",
    "def transportationOptimizer(inputFile,outputFile):\n",
    "    c=pd.read_excel(inputFile,sheet_name='costs',index_col=0)\n",
    "    s=pd.read_excel(inputFile,sheet_name='supply',index_col=0)['available']\n",
    "    d=pd.read_excel(inputFile,sheet_name='demand',index_col=0)['needed']\n",
    "    mod=Model()\n",
    "    I=c.index\n",
    "    J=c.columns\n",
    "    x=mod.addVars(I,J,vtype=GRB.INTEGER)\n",
    "    mod.setObjective(sum(x[i,j]*c.loc[i,j] for i in I for j in J))\n",
    "    for i in I:\n",
    "        mod.addConstr(sum(x[i,j] for j in J)<=s.loc[i])\n",
    "    for j in J:\n",
    "        mod.addConstr(sum(x[i,j] for i in I)>=d.loc[j])\n",
    "    mod.setParam('outputflag',False)\n",
    "    mod.optimize()\n",
    "    \n",
    "    # Write your code for creating the output file below\n",
    "    data = {}\n",
    "    writer = pd.ExcelWriter(outputFile)\n",
    "    pd.DataFrame([mod.objval], columns = ['Minimum cost']).to_excel(writer, sheet_name = 'Objective', index=False)\n",
    "    df = pd.DataFrame(index = I,columns = J)\n",
    "    for i in I:\n",
    "        for j in J:\n",
    "            df[i,j] = x[i,j].X\n",
    "    df.to_excel(writer, sheet_name= 'Plan')\n",
    "    writer.save()\n",
    "    \n",
    "        "
   ]
  },
  {
   "cell_type": "code",
   "execution_count": 88,
   "metadata": {},
   "outputs": [],
   "source": [
    "# Test code 1\n",
    "transportationOptimizer('12-transportation-input-1.xlsx','12-transportation-output-1.xlsx')\n",
    "# You should check whether the above output file matches \"12-transportation-sampleOutput-1.xlsx\""
   ]
  },
  {
   "cell_type": "code",
   "execution_count": null,
   "metadata": {},
   "outputs": [],
   "source": [
    "# Test code 2\n",
    "transportationOptimizer('12-transportation-input-2.xlsx','12-transportation-output-2.xlsx')"
   ]
  }
 ],
 "metadata": {
  "kernelspec": {
   "display_name": "Python 3",
   "language": "python",
   "name": "python3"
  },
  "language_info": {
   "codemirror_mode": {
    "name": "ipython",
    "version": 3
   },
   "file_extension": ".py",
   "mimetype": "text/x-python",
   "name": "python",
   "nbconvert_exporter": "python",
   "pygments_lexer": "ipython3",
   "version": "3.8.3"
  },
  "varInspector": {
   "cols": {
    "lenName": 16,
    "lenType": 16,
    "lenVar": 40
   },
   "kernels_config": {
    "python": {
     "delete_cmd_postfix": "",
     "delete_cmd_prefix": "del ",
     "library": "var_list.py",
     "varRefreshCmd": "print(var_dic_list())"
    },
    "r": {
     "delete_cmd_postfix": ") ",
     "delete_cmd_prefix": "rm(",
     "library": "var_list.r",
     "varRefreshCmd": "cat(var_dic_list()) "
    }
   },
   "types_to_exclude": [
    "module",
    "function",
    "builtin_function_or_method",
    "instance",
    "_Feature"
   ],
   "window_display": false
  }
 },
 "nbformat": 4,
 "nbformat_minor": 2
}
