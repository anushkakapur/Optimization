{
 "cells": [
  {
   "cell_type": "markdown",
   "metadata": {},
   "source": [
    "Optimizing shipment to different regions. Function takes in any input file and ouputs objective values"
   ]
  },
  {
   "cell_type": "code",
   "execution_count": 50,
   "metadata": {},
   "outputs": [],
   "source": [
    "from gurobipy import Model, GRB\n",
    "import pandas as pd\n",
    "def optimizeShipment(inputFile,outputFile):\n",
    "    # Reading in data\n",
    "    fcs=pd.read_excel(inputFile,sheet_name='Fulfilment Centers',index_col=0)\n",
    "    regions=pd.read_excel(inputFile,sheet_name='Regions',index_col=0)\n",
    "    distances=pd.read_excel(inputFile,sheet_name='Distances',index_col=0)\n",
    "    items=pd.read_excel(inputFile,sheet_name='Items',index_col=0)\n",
    "    demand=pd.read_excel(inputFile,sheet_name='Demand',index_col=0)\n",
    "    I=fcs.index\n",
    "    J=regions.index\n",
    "    K=items.index\n",
    "    q=fcs['capacity']\n",
    "    delta=distances.T\n",
    "    w=items['shipping_weight']\n",
    "    s=items['storage_size']\n",
    "    d=demand.T\n",
    "    \n",
    "    # Constructing the formulation\n",
    "    mod=Model()\n",
    "    x=mod.addVars(I,J,K,name='x')\n",
    "    mod.setObjective(1.38*sum(w.loc[k]*delta.loc[i,j]*x[i,j,k] for i in I for j in J for k in K))\n",
    "    for i in I:\n",
    "        mod.addConstr(sum(s.loc[k]*x[i,j,k] for j in J for k in K)<=q.loc[i],name=f'Capacity_{i}')\n",
    "    for j in J:\n",
    "        for k in K:\n",
    "            mod.addConstr(sum(x[i,j,k] for i in I)>=d.loc[j,k],name=f'Demand_{j}_{k}')\n",
    "    mod.setParam('OutputFlag',False)\n",
    "    mod.optimize()\n",
    "    print('Finished optimizing! Objective value:',mod.objval)\n",
    "    \n",
    "    # Write your code to write to outputFile below\n",
    "    writer=pd.ExcelWriter(outputFile)\n",
    "    pd.DataFrame([mod.objval],columns=['Minimum Total Cost'])\\\n",
    "        .to_excel(writer,sheet_name='Summary',index=False)\n",
    "    l = []\n",
    "    for i in I:\n",
    "        for j in J:\n",
    "            for k in K:\n",
    "                if x[i,j,k].x>0:\n",
    "                    l.append([i, j, k, x[i,j,k].x])\n",
    "    df = pd.DataFrame(l, columns = ['FC_name', 'region_ID', 'item_ID', 'Shipment'])\n",
    "    df.to_excel(writer, sheet_name='Solution', index = False)\n",
    "    writer.save()\n",
    "    \n",
    "    \n",
    "    \n",
    "    \n",
    "    "
   ]
  },
  {
   "cell_type": "code",
   "execution_count": 51,
   "metadata": {},
   "outputs": [
    {
     "name": "stdout",
     "output_type": "stream",
     "text": [
      "Finished optimizing! Objective value: 3400.769189999999\n"
     ]
    }
   ],
   "source": [
    "# Test code\n",
    "optimizeShipment('12-retail-toy-input.xlsx','12-retail-test-output.xlsx')"
   ]
  },
  {
   "cell_type": "code",
   "execution_count": 49,
   "metadata": {},
   "outputs": [
    {
     "name": "stdout",
     "output_type": "stream",
     "text": [
      "Finished optimizing! Objective value: 9841229.288170151\n"
     ]
    }
   ],
   "source": [
    "# Test code (might take a minute to run)\n",
    "optimizeShipment('12-retail-real-input.xlsx','12-retail-real-output.xlsx')"
   ]
  }
 ],
 "metadata": {
  "kernelspec": {
   "display_name": "Python 3",
   "language": "python",
   "name": "python3"
  },
  "language_info": {
   "codemirror_mode": {
    "name": "ipython",
    "version": 3
   },
   "file_extension": ".py",
   "mimetype": "text/x-python",
   "name": "python",
   "nbconvert_exporter": "python",
   "pygments_lexer": "ipython3",
   "version": "3.8.3"
  },
  "varInspector": {
   "cols": {
    "lenName": 16,
    "lenType": 16,
    "lenVar": 40
   },
   "kernels_config": {
    "python": {
     "delete_cmd_postfix": "",
     "delete_cmd_prefix": "del ",
     "library": "var_list.py",
     "varRefreshCmd": "print(var_dic_list())"
    },
    "r": {
     "delete_cmd_postfix": ") ",
     "delete_cmd_prefix": "rm(",
     "library": "var_list.r",
     "varRefreshCmd": "cat(var_dic_list()) "
    }
   },
   "types_to_exclude": [
    "module",
    "function",
    "builtin_function_or_method",
    "instance",
    "_Feature"
   ],
   "window_display": false
  }
 },
 "nbformat": 4,
 "nbformat_minor": 2
}
