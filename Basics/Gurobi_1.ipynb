{
 "cells": [
  {
   "cell_type": "markdown",
   "metadata": {},
   "source": [
    "**Decision Variables:**\n",
    "\n",
    "- Let $x_A, x_B, x_C, x_D, x_E$ denote how much to invest in each of the five options. (continuous)\n",
    "- Let $y_0,y_1,y_2,y_3$ denote the cash at hand at the end of each year. (Continuous)\n",
    "\n",
    "**Objective:**\n",
    "\n",
    "$$\\text{Maximize: }  y_3 $$\n",
    "\n",
    "**Constraints:**\n",
    "\n",
    "$$\\begin{aligned}\n",
    "\\text{(Cash flow in year 0)} && 10000 - x_A-x_C-x_D &= y_0 \\\\\n",
    "\\text{(Cash flow in year 1)} && y_0 + 0.5x_A + 1.2x_C - x_B &= y_1 \\\\\n",
    "\\text{(Cash flow in year 2)} && y_1 + x_A + 0.5x_B - x_E &= y_2 \\\\\n",
    "\\text{(Cash flow in year 3)} && y_2 + x_B + 1.9x_D + 1.5x_E &= y3\\\\\n",
    "\\text{(Limit on investment)} && x_A, x_B, x_C, x_D, x_E & \\le 75000 \\\\\n",
    "\\text{(Non-negative cash on hand)} && y_0, y_1, y_2, y_3 & \\ge 0 \\\\\n",
    "\\text{(Non-negative investments)} && x_A, x_B, x_C, x_D, x_E & \\ge 0 \n",
    "\\end{aligned}$$\n"
   ]
  },
  {
   "cell_type": "code",
   "execution_count": 10,
   "metadata": {},
   "outputs": [
    {
     "name": "stdout",
     "output_type": "stream",
     "text": [
      "Gurobi Optimizer version 9.0.3 build v9.0.3rc0 (mac64)\n",
      "Optimize a model with 9 rows, 9 columns and 24 nonzeros\n",
      "Model fingerprint: 0xd0851c73\n",
      "Coefficient statistics:\n",
      "  Matrix range     [5e-01, 2e+00]\n",
      "  Objective range  [1e+00, 1e+00]\n",
      "  Bounds range     [0e+00, 0e+00]\n",
      "  RHS range        [1e+04, 8e+04]\n",
      "Presolve removed 6 rows and 1 columns\n",
      "Presolve time: 0.01s\n",
      "Presolved: 3 rows, 8 columns, 14 nonzeros\n",
      "\n",
      "Iteration    Objective       Primal Inf.    Dual Inf.      Time\n",
      "       0    1.7242226e+05   2.189938e+04   0.000000e+00      0s\n",
      "       4    2.3750000e+04   0.000000e+00   0.000000e+00      0s\n",
      "\n",
      "Solved in 4 iterations and 0.01 seconds\n",
      "Optimal objective  2.375000000e+04\n"
     ]
    }
   ],
   "source": [
    "# Write your model here\n",
    "from gurobipy import Model, GRB\n",
    "\n",
    "m = Model()\n",
    "x = m.addVars(['A','B','C','D','E'], name = 'x')\n",
    "y = m.addVars([0,1,2,3], name = 'y')\n",
    "\n",
    "m.setObjective(y[3], sense = GRB.MAXIMIZE)\n",
    "m.addConstr(10000 - x['A'] - x['C']-x['D'] == y[0])\n",
    "m.addConstr(y[0] + 0.5*x['A'] + 1.2*x['C'] - x['B'] == y[1])\n",
    "m.addConstr(y[1] + x['A']+0.5*x['B']-x['E'] == y[2])\n",
    "m.addConstr(y[2] + x['B']+1.9*x['D']+1.5*x['E'] == y[3])\n",
    "m.addConstr(x['A'] <= 75000)\n",
    "m.addConstr(x['B'] <= 75000)\n",
    "m.addConstr(x['C'] <= 75000)\n",
    "m.addConstr(x['D'] <= 75000)\n",
    "m.addConstr(x['E'] <= 75000)\n",
    "m.optimize()"
   ]
  },
  {
   "cell_type": "markdown",
   "metadata": {},
   "source": [
    "**The command `%cat` only works only on Macs or Linux. For Windows, do**\n",
    "```python\n",
    "mod.write('10-4-model.lp')\n",
    "!type 10-4-model.lp\n",
    "```"
   ]
  },
  {
   "cell_type": "code",
   "execution_count": 12,
   "metadata": {},
   "outputs": [
    {
     "name": "stdout",
     "output_type": "stream",
     "text": [
      "\\ LP format - for model browsing. Use MPS format to capture full model detail.\r\n",
      "Maximize\r\n",
      "  y[3]\r\n",
      "Subject To\r\n",
      " R0: - x[A] - x[C] - x[D] - y[0] = -10000\r\n",
      " R1: 0.5 x[A] - x[B] + 1.2 x[C] + y[0] - y[1] = 0\r\n",
      " R2: x[A] + 0.5 x[B] - x[E] + y[1] - y[2] = 0\r\n",
      " R3: x[B] + 1.9 x[D] + 1.5 x[E] + y[2] - y[3] = 0\r\n",
      " R4: x[A] <= 75000\r\n",
      " R5: x[B] <= 75000\r\n",
      " R6: x[C] <= 75000\r\n",
      " R7: x[D] <= 75000\r\n",
      " R8: x[E] <= 75000\r\n",
      "Bounds\r\n",
      "End\r\n"
     ]
    }
   ],
   "source": [
    "# Test code to run after you completed the model above.\n",
    "m.write('10-4-model.lp')\n",
    "%cat '10-4-model.lp'"
   ]
  },
  {
   "cell_type": "code",
   "execution_count": 30,
   "metadata": {},
   "outputs": [
    {
     "name": "stdout",
     "output_type": "stream",
     "text": [
      "Maximum cash at end of Year 3: 23750.0\n",
      "Optimal investment\n",
      "\tA: 10000.0 \n",
      "\tB: 5000.0\n",
      "\tC: 0.0\n",
      "\tD: 0.0 \n",
      "\tE: 12500.0\n"
     ]
    }
   ],
   "source": [
    "print(f'Maximum cash at end of Year 3: {m.objVal}')\n",
    "print(f'Optimal investment\\n\\tA: {x[\"A\"].x} \\n\\tB: {x[\"B\"].x}\\n\\tC: {x[\"C\"].x}\\n\\tD: {x[\"D\"].x} \\n\\tE: {x[\"E\"].x}')"
   ]
  }
 ],
 "metadata": {
  "kernelspec": {
   "display_name": "Python 3",
   "language": "python",
   "name": "python3"
  },
  "language_info": {
   "codemirror_mode": {
    "name": "ipython",
    "version": 3
   },
   "file_extension": ".py",
   "mimetype": "text/x-python",
   "name": "python",
   "nbconvert_exporter": "python",
   "pygments_lexer": "ipython3",
   "version": "3.8.3"
  },
  "varInspector": {
   "cols": {
    "lenName": 16,
    "lenType": 16,
    "lenVar": 40
   },
   "kernels_config": {
    "python": {
     "delete_cmd_postfix": "",
     "delete_cmd_prefix": "del ",
     "library": "var_list.py",
     "varRefreshCmd": "print(var_dic_list())"
    },
    "r": {
     "delete_cmd_postfix": ") ",
     "delete_cmd_prefix": "rm(",
     "library": "var_list.r",
     "varRefreshCmd": "cat(var_dic_list()) "
    }
   },
   "types_to_exclude": [
    "module",
    "function",
    "builtin_function_or_method",
    "instance",
    "_Feature"
   ],
   "window_display": false
  }
 },
 "nbformat": 4,
 "nbformat_minor": 2
}
