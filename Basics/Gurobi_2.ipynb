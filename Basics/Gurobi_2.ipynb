{
 "cells": [
  {
   "cell_type": "markdown",
   "metadata": {},
   "source": [
    "**Decision variables:**\n",
    "Let $x_i$ denote whether to carry $i$, where $i \\in \\{1, 2, \\cdots, 10\\}$. (Binary)\n",
    "\n",
    "**Objective:**\n",
    "$$\\text{Minimize: } x_1+x_2+\\cdots+x_{10}.$$\n",
    "\n",
    "**Constraints:**\n",
    "\n",
    "$$\\begin{aligned}\n",
    "\\text{(Literary)} && x_1+x_4+x_5+x_9 & \\ge 2\\\\\n",
    "\\text{(Sci-Fi)} && x_2 + x_7 + x_9 & \\ge 2\\\\\n",
    "\\text{(Romance)} && x_3 + x_4 + x_6 + x_{10} & \\ge 2 \\\\\n",
    "\\text{(Thriller)} && x_2+x_3+x_8 & \\ge 2\n",
    "\\end{aligned}$$\n",
    "\n",
    "**Hint:**\n",
    "\n",
    "- You should express the objective as a sum.\n",
    "- You can store which books are in each genre using the following data structure (a dictionary of lists)."
   ]
  },
  {
   "cell_type": "code",
   "execution_count": 65,
   "metadata": {},
   "outputs": [
    {
     "name": "stdout",
     "output_type": "stream",
     "text": [
      "Literary : [1, 4, 5, 9]\n",
      "Sci-Fi : [2, 7, 9]\n",
      "Romance : [3, 4, 6, 10]\n",
      "Thriller : [2, 3, 8]\n"
     ]
    }
   ],
   "source": [
    "booksInGenre={'Literary':[1,4,5,9],'Sci-Fi':[2,7,9],'Romance':[3,4,6,10],'Thriller':[2,3,8]}\n",
    "for genres in booksInGenre:\n",
    "    print(genres,':',booksInGenre[genres])"
   ]
  },
  {
   "cell_type": "code",
   "execution_count": 66,
   "metadata": {},
   "outputs": [],
   "source": [
    "from gurobipy import Model, GRB"
   ]
  },
  {
   "cell_type": "code",
   "execution_count": 27,
   "metadata": {},
   "outputs": [
    {
     "data": {
      "text/plain": [
       "<gurobi.LinExpr: x[1] + x[2] + x[3] + x[4] + x[5] + x[6] + x[7] + x[8] + x[9] + x[10]>"
      ]
     },
     "execution_count": 27,
     "metadata": {},
     "output_type": "execute_result"
    }
   ],
   "source": [
    "obj = sum(x[i] for i in novels)\n",
    "obj"
   ]
  },
  {
   "cell_type": "code",
   "execution_count": 75,
   "metadata": {},
   "outputs": [
    {
     "name": "stdout",
     "output_type": "stream",
     "text": [
      "\\ LP format - for model browsing. Use MPS format to capture full model detail.\r\n",
      "Minimize\r\n",
      "  x[1] + x[2] + x[3] + x[4] + x[5] + x[6] + x[7] + x[8] + x[9] + x[10]\r\n",
      "Subject To\r\n",
      " R0: x[1] + x[4] + x[5] + x[9] >= 2\r\n",
      " R1: x[2] + x[7] + x[9] >= 2\r\n",
      " R2: x[3] + x[4] + x[6] + x[10] >= 2\r\n",
      " R3: x[2] + x[3] + x[8] >= 2\r\n",
      "Bounds\r\n",
      "Binaries\r\n",
      " x[1] x[2] x[3] x[4] x[5] x[6] x[7] x[8] x[9] x[10]\r\n",
      "End\r\n"
     ]
    }
   ],
   "source": [
    "mod = Model()\n",
    "novels = range(1,11)\n",
    "x = mod.addVars(novels, name = 'x', vtype = GRB.BINARY)\n",
    "mod.setObjective(sum(x[i] for i in novels))\n",
    "for n in booksInGenre:\n",
    "    mod.addConstr(sum(x[i] for i in booksInGenre[n])>=2)\n",
    "mod.write('10-5-example.lp')\n",
    "%cat '10-5-example.lp'"
   ]
  },
  {
   "cell_type": "code",
   "execution_count": 76,
   "metadata": {},
   "outputs": [
    {
     "name": "stdout",
     "output_type": "stream",
     "text": [
      "Gurobi Optimizer version 9.0.3 build v9.0.3rc0 (mac64)\n",
      "Optimize a model with 4 rows, 10 columns and 14 nonzeros\n",
      "Model fingerprint: 0x1becf3ef\n",
      "Variable types: 0 continuous, 10 integer (10 binary)\n",
      "Coefficient statistics:\n",
      "  Matrix range     [1e+00, 1e+00]\n",
      "  Objective range  [1e+00, 1e+00]\n",
      "  Bounds range     [1e+00, 1e+00]\n",
      "  RHS range        [2e+00, 2e+00]\n",
      "Found heuristic solution: objective 6.0000000\n",
      "Presolve removed 4 rows and 10 columns\n",
      "Presolve time: 0.00s\n",
      "Presolve: All rows and columns removed\n",
      "\n",
      "Explored 0 nodes (0 simplex iterations) in 0.01 seconds\n",
      "Thread count was 1 (of 8 available processors)\n",
      "\n",
      "Solution count 2: 4 \n",
      "\n",
      "Optimal solution found (tolerance 1.00e-04)\n",
      "Best objective 4.000000000000e+00, best bound 4.000000000000e+00, gap 0.0000%\n"
     ]
    }
   ],
   "source": [
    "mod.optimize()"
   ]
  },
  {
   "cell_type": "code",
   "execution_count": 79,
   "metadata": {},
   "outputs": [
    {
     "name": "stdout",
     "output_type": "stream",
     "text": [
      "<gurobi.Var x[1] (value 0.0)> : 0.0\n",
      "<gurobi.Var x[2] (value 1.0)> : 1.0\n",
      "<gurobi.Var x[3] (value 1.0)> : 1.0\n",
      "<gurobi.Var x[4] (value 1.0)> : 1.0\n",
      "<gurobi.Var x[5] (value 0.0)> : 0.0\n",
      "<gurobi.Var x[6] (value 0.0)> : 0.0\n",
      "<gurobi.Var x[7] (value 0.0)> : 0.0\n",
      "<gurobi.Var x[8] (value 0.0)> : 0.0\n",
      "<gurobi.Var x[9] (value 1.0)> : 1.0\n",
      "<gurobi.Var x[10] (value 0.0)> : 0.0\n"
     ]
    }
   ],
   "source": [
    "for i in novels:\n",
    "    print(x[i], ':', x[i].x)"
   ]
  }
 ],
 "metadata": {
  "kernelspec": {
   "display_name": "Python 3",
   "language": "python",
   "name": "python3"
  },
  "language_info": {
   "codemirror_mode": {
    "name": "ipython",
    "version": 3
   },
   "file_extension": ".py",
   "mimetype": "text/x-python",
   "name": "python",
   "nbconvert_exporter": "python",
   "pygments_lexer": "ipython3",
   "version": "3.8.3"
  },
  "varInspector": {
   "cols": {
    "lenName": 16,
    "lenType": 16,
    "lenVar": 40
   },
   "kernels_config": {
    "python": {
     "delete_cmd_postfix": "",
     "delete_cmd_prefix": "del ",
     "library": "var_list.py",
     "varRefreshCmd": "print(var_dic_list())"
    },
    "r": {
     "delete_cmd_postfix": ") ",
     "delete_cmd_prefix": "rm(",
     "library": "var_list.r",
     "varRefreshCmd": "cat(var_dic_list()) "
    }
   },
   "types_to_exclude": [
    "module",
    "function",
    "builtin_function_or_method",
    "instance",
    "_Feature"
   ],
   "window_display": false
  }
 },
 "nbformat": 4,
 "nbformat_minor": 2
}
