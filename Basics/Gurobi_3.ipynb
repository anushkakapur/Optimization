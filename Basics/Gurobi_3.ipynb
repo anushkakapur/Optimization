{
 "cells": [
  {
   "cell_type": "markdown",
   "metadata": {},
   "source": [
    "**Decision Variables:**\n",
    "\n",
    "- Let $X_A,X_B, \\cdots X_E$ denote whether to install a sensor at each intersection. (Binary)\n",
    "\n",
    "\n",
    "**Objective:**\n",
    "\n",
    "$$ \\text{Min. } 100X_A+150X_B+180X_C+160X_D+130X_E $$\n",
    "\n",
    "\n",
    "**Constraints:**\n",
    "\n",
    "$$\\begin{aligned}\n",
    "\\text{(Monitoring A-B)} && X_A+X_B & \\ge 1 \\\\\n",
    "\\text{(Monitoring A-C)} && X_A+X_C & \\ge 1 \\\\\n",
    "\\text{(Monitoring B-D)} && X_B+X_D & \\ge 1 \\\\\n",
    "\\text{(Monitoring C-D)} && X_C+X_D & \\ge 1 \\\\\n",
    "\\text{(Monitoring D-E)} && X_D+X_E & \\ge 1 \\\\\n",
    "\\text{(Monitoring C-E)} && X_C+X_E & \\ge 1 \n",
    "\\end{aligned}$$"
   ]
  },
  {
   "cell_type": "code",
   "execution_count": 3,
   "metadata": {},
   "outputs": [],
   "source": [
    "# Input data\n",
    "intersections=['A','B','C','D','E']\n",
    "import pandas as pd\n",
    "cost=pd.Series([100,150,180,160,130],index=intersections)\n",
    "segments=[['A','B'],['A','C'],['B','D'],['C','D'],['D','E'],['C','E']]"
   ]
  },
  {
   "cell_type": "code",
   "execution_count": 4,
   "metadata": {},
   "outputs": [
    {
     "name": "stdout",
     "output_type": "stream",
     "text": [
      "A-B\n",
      "A-C\n",
      "B-D\n",
      "C-D\n",
      "D-E\n",
      "C-E\n"
     ]
    }
   ],
   "source": [
    "# Code to help you loop through segments\n",
    "for segment in segments:\n",
    "    beg,end=segment\n",
    "    print(f'{beg}-{end}')"
   ]
  },
  {
   "cell_type": "code",
   "execution_count": 7,
   "metadata": {},
   "outputs": [],
   "source": [
    "from gurobipy import Model, GRB"
   ]
  },
  {
   "cell_type": "code",
   "execution_count": 37,
   "metadata": {},
   "outputs": [
    {
     "data": {
      "text/plain": [
       "{'A': <gurobi.Var X[A]>,\n",
       " 'B': <gurobi.Var X[B]>,\n",
       " 'C': <gurobi.Var X[C]>,\n",
       " 'D': <gurobi.Var X[D]>,\n",
       " 'E': <gurobi.Var X[E]>}"
      ]
     },
     "execution_count": 37,
     "metadata": {},
     "output_type": "execute_result"
    }
   ],
   "source": [
    "mod = Model()\n",
    "x = mod.addVars(intersections, name = 'X', vtype = GRB.BINARY)\n",
    "mod.update()\n",
    "x"
   ]
  },
  {
   "cell_type": "code",
   "execution_count": 38,
   "metadata": {},
   "outputs": [
    {
     "data": {
      "text/plain": [
       "<gurobi.LinExpr: 100.0 X[A] + 150.0 X[B] + 180.0 X[C] + 160.0 X[D] + 130.0 X[E]>"
      ]
     },
     "execution_count": 38,
     "metadata": {},
     "output_type": "execute_result"
    }
   ],
   "source": [
    "obj = sum(cost[i]*x[i] for i in intersections)\n",
    "obj"
   ]
  },
  {
   "cell_type": "code",
   "execution_count": 39,
   "metadata": {},
   "outputs": [
    {
     "name": "stdout",
     "output_type": "stream",
     "text": [
      "<gurobi.LinExpr: X[A] + X[B]>\n",
      "<gurobi.LinExpr: X[A] + X[C]>\n",
      "<gurobi.LinExpr: X[B] + X[D]>\n",
      "<gurobi.LinExpr: X[C] + X[D]>\n",
      "<gurobi.LinExpr: X[D] + X[E]>\n",
      "<gurobi.LinExpr: X[C] + X[E]>\n"
     ]
    }
   ],
   "source": [
    "for k in range(len(segments)):\n",
    "    print(sum(x[i] for i in segments[k]))"
   ]
  },
  {
   "cell_type": "code",
   "execution_count": 40,
   "metadata": {},
   "outputs": [
    {
     "data": {
      "text/plain": [
       "<gurobi.LinExpr: X[A] + X[B]>"
      ]
     },
     "execution_count": 40,
     "metadata": {},
     "output_type": "execute_result"
    }
   ],
   "source": [
    "sum(x[i] for i in segments[0])"
   ]
  },
  {
   "cell_type": "code",
   "execution_count": 41,
   "metadata": {},
   "outputs": [
    {
     "name": "stdout",
     "output_type": "stream",
     "text": [
      "\\ LP format - for model browsing. Use MPS format to capture full model detail.\r\n",
      "Minimize\r\n",
      "  100 X[A] + 150 X[B] + 180 X[C] + 160 X[D] + 130 X[E]\r\n",
      "Subject To\r\n",
      " R0: X[A] + X[B] >= 1\r\n",
      " R1: X[A] + X[C] >= 1\r\n",
      " R2: X[B] + X[D] >= 1\r\n",
      " R3: X[C] + X[D] >= 1\r\n",
      " R4: X[D] + X[E] >= 1\r\n",
      " R5: X[C] + X[E] >= 1\r\n",
      "Bounds\r\n",
      "Binaries\r\n",
      " X[A] X[B] X[C] X[D] X[E]\r\n",
      "End\r\n"
     ]
    }
   ],
   "source": [
    "mod.setObjective(sum(cost[i]*x[i] for i in intersections))\n",
    "for k in range(len(segments)):\n",
    "    mod.addConstr(sum(x[i] for i in segments[k])>=1)\n",
    "mod.write('10-5-example.lp')\n",
    "%cat '10-5-example.lp'"
   ]
  },
  {
   "cell_type": "code",
   "execution_count": 42,
   "metadata": {},
   "outputs": [
    {
     "name": "stdout",
     "output_type": "stream",
     "text": [
      "Gurobi Optimizer version 9.0.3 build v9.0.3rc0 (mac64)\n",
      "Optimize a model with 6 rows, 5 columns and 12 nonzeros\n",
      "Model fingerprint: 0xb941ebd5\n",
      "Variable types: 0 continuous, 5 integer (5 binary)\n",
      "Coefficient statistics:\n",
      "  Matrix range     [1e+00, 1e+00]\n",
      "  Objective range  [1e+02, 2e+02]\n",
      "  Bounds range     [1e+00, 1e+00]\n",
      "  RHS range        [1e+00, 1e+00]\n",
      "Found heuristic solution: objective 460.0000000\n",
      "Presolve removed 2 rows and 0 columns\n",
      "Presolve time: 0.00s\n",
      "Presolved: 4 rows, 5 columns, 9 nonzeros\n",
      "Variable types: 0 continuous, 5 integer (5 binary)\n",
      "\n",
      "Root relaxation: objective 3.900000e+02, 2 iterations, 0.00 seconds\n",
      "\n",
      "    Nodes    |    Current Node    |     Objective Bounds      |     Work\n",
      " Expl Unexpl |  Obj  Depth IntInf | Incumbent    BestBd   Gap | It/Node Time\n",
      "\n",
      "*    0     0               0     390.0000000  390.00000  0.00%     -    0s\n",
      "\n",
      "Explored 0 nodes (2 simplex iterations) in 0.02 seconds\n",
      "Thread count was 8 (of 8 available processors)\n",
      "\n",
      "Solution count 2: 390 460 \n",
      "\n",
      "Optimal solution found (tolerance 1.00e-04)\n",
      "Best objective 3.900000000000e+02, best bound 3.900000000000e+02, gap 0.0000%\n"
     ]
    }
   ],
   "source": [
    "mod.optimize()"
   ]
  },
  {
   "cell_type": "code",
   "execution_count": 45,
   "metadata": {},
   "outputs": [
    {
     "name": "stdout",
     "output_type": "stream",
     "text": [
      "x[A]: 1.0\n",
      "x[B]: -0.0\n",
      "x[C]: -0.0\n",
      "x[D]: 1.0\n",
      "x[E]: 1.0\n"
     ]
    }
   ],
   "source": [
    "for b in intersections:\n",
    "    print(f'x[{b}]: {x[b].x}')"
   ]
  }
 ],
 "metadata": {
  "kernelspec": {
   "display_name": "Python 3",
   "language": "python",
   "name": "python3"
  },
  "language_info": {
   "codemirror_mode": {
    "name": "ipython",
    "version": 3
   },
   "file_extension": ".py",
   "mimetype": "text/x-python",
   "name": "python",
   "nbconvert_exporter": "python",
   "pygments_lexer": "ipython3",
   "version": "3.8.3"
  },
  "varInspector": {
   "cols": {
    "lenName": 16,
    "lenType": 16,
    "lenVar": 40
   },
   "kernels_config": {
    "python": {
     "delete_cmd_postfix": "",
     "delete_cmd_prefix": "del ",
     "library": "var_list.py",
     "varRefreshCmd": "print(var_dic_list())"
    },
    "r": {
     "delete_cmd_postfix": ") ",
     "delete_cmd_prefix": "rm(",
     "library": "var_list.r",
     "varRefreshCmd": "cat(var_dic_list()) "
    }
   },
   "types_to_exclude": [
    "module",
    "function",
    "builtin_function_or_method",
    "instance",
    "_Feature"
   ],
   "window_display": false
  }
 },
 "nbformat": 4,
 "nbformat_minor": 2
}
