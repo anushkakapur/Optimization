{
 "cells": [
  {
   "cell_type": "markdown",
   "metadata": {},
   "source": [
    "FC Transport\n",
    "\n",
    "**Decision Variables:** Let $X_1, \\cdots, X_7$ denote whether to use each FC. (Binary)\n",
    "\n",
    "**Objective and constraints:**\n",
    "\n",
    "$$\\begin{aligned}\n",
    "\\text{Minimize} && X_1+X_2+\\cdots+X_7 \\\\\n",
    "\\text{s.t.} && X_2+X_5+X_6+X_7 & \\ge 1\\\\\n",
    "&& X_3+X_4 & \\ge 1\\\\\n",
    "&& X_3 & \\ge 1 \\\\\n",
    "&& X_1+X_2+X_4+X_6 & \\ge 1 \\\\\n",
    "&& X_5 + X_7 & \\ge 1\\\\\n",
    "&& X_4 &\\le X_1 \\\\\n",
    "&& X_2+X_3 & \\le 1\n",
    "\\end{aligned}$$\n",
    "\n",
    "**a)** Implement the above using Gurobi"
   ]
  },
  {
   "cell_type": "code",
   "execution_count": 1,
   "metadata": {},
   "outputs": [
    {
     "name": "stdout",
     "output_type": "stream",
     "text": [
      "Using license file /home/pengshi/gurobi.lic\n",
      "Academic license - for non-commercial use only\n",
      "\\ LP format - for model browsing. Use MPS format to capture full model detail.\n",
      "Minimize\n",
      "  X[1] + X[2] + X[3] + X[4] + X[5] + X[6] + X[7]\n",
      "Subject To\n",
      " R0: X[2] + X[5] + X[6] + X[7] >= 1\n",
      " R1: X[3] + X[4] >= 1\n",
      " R2: X[3] >= 1\n",
      " R3: X[1] + X[2] + X[4] + X[6] >= 1\n",
      " R4: X[5] + X[7] >= 1\n",
      " R5: - X[1] + X[4] <= 0\n",
      " R6: X[2] + X[3] <= 1\n",
      "Bounds\n",
      "Binaries\n",
      " X[1] X[2] X[3] X[4] X[5] X[6] X[7]\n",
      "End\n"
     ]
    }
   ],
   "source": [
    "atLeastOne=[[2,5,6,7],[3,4],[3],[1,2,4,6],[5,7]]\n",
    "from gurobipy import Model, GRB\n",
    "mod=Model()\n",
    "x=mod.addVars(range(1,8),vtype=GRB.BINARY,name='X')\n",
    "mod.setObjective(sum(x[i] for i in range(1,8)))\n",
    "for listOfFCs in atLeastOne:\n",
    "    mod.addConstr(sum(x[i] for i in listOfFCs)>=1)\n",
    "mod.addConstr(x[4]<=x[1])\n",
    "mod.addConstr(x[2]+x[3]<=1)\n",
    "mod.update()\n",
    "mod.write('PS8-Q1.lp')\n",
    "%cat 'PS8-Q1.lp'\n",
    "#!type PS8-Q1.lp   (on Windows)"
   ]
  },
  {
   "cell_type": "markdown",
   "metadata": {},
   "source": [
    "**b)** Solve the MIP and print the minimum number of FCs needed, as well as where to stock the items. "
   ]
  },
  {
   "cell_type": "code",
   "execution_count": 2,
   "metadata": {},
   "outputs": [
    {
     "name": "stdout",
     "output_type": "stream",
     "text": [
      "Minimum # of FCs needed: 3\n",
      "Stock item in the following:\n",
      "\tFC1\n",
      "\tFC3\n",
      "\tFC7\n"
     ]
    }
   ],
   "source": [
    "mod.setParam('OutputFlag',False)\n",
    "mod.optimize()\n",
    "print('Minimum # of FCs needed:',int(mod.objval))\n",
    "print('Stock item in the following:')\n",
    "for i in range(1,8):\n",
    "    if x[i].x==1:\n",
    "        print(f'\\tFC{i}')"
   ]
  },
  {
   "cell_type": "markdown",
   "metadata": {},
   "source": [
    "Optimal earnings\n",
    "\n",
    "Nature's Best Frozen Foods company produces four different mixes of frozen ready-to-eat vegetables. The mixes consist of five different vegetables: carrots, mushrooms, green peppers, broccoli, and corn. The company manufacturers four different mixes, each sold in 10 oz. bags. The mixes are \"Stir Fry\", \"Barbecue\", \"Hearty Mushrooms\" and \"Veggie Crunch,\" and their contributions to earnings (per bag) are 0.22, 0.20, 0.18 and 0.18 respectively. The monthly supplies of carrots, mushrooms, green peppers, broccoli and corn are 150,000 oz., 80,000 oz., 135,000 oz., 140,000 oz., and 150,000 oz. per month, respectively. The compositions of the mixes are shown in the table below. For example, one bag of \"Stir Fry\" mix contains 2.5 oz. of carrots, 3.0 oz. of mushrooms, 2.5 oz. of green peppers, 2.0 oz. of broccoli, and no corn. \n",
    "\n",
    "|` `| Stir Fry | Barbecue | Hearty Mushrooms | Veggie Crunch |\n",
    "|--|--|--|--|--|\n",
    "|Carrots | 2.5 | 2.0 | - | 2.5 |\n",
    "|Mushrooms | 3.0 | - | 4.0 | - |\n",
    "|Green Peppers | 2.5 | 2.0 | 3 | 2.5 |\n",
    "|Broccoli | 2.0 | 3.0 | 3.0 | 2.5 |\n",
    "|Corn | - | 3.0 | - | 2.5 |\n",
    "\n",
    "**a)** Formulate a LP to determine the optimal monthly production of each mix to maximize total earnings. "
   ]
  },
  {
   "cell_type": "markdown",
   "metadata": {},
   "source": [
    "### Step 1. English description\n",
    "\n",
    "**Decision:** How much of each mix to produce in a month.\n",
    "\n",
    "**Objective:** Maximize total earnings.\n",
    "\n",
    "**Constraints:** For each of the five ingredients, the total amount used must be less than equal to the supply available.\n",
    "\n",
    "### Step 2. Concrete formulation\n",
    "\n",
    "**Decision variables:** \n",
    "\n",
    "- $S$: amount of Stir Fry mixes to produce (Continuous); \n",
    "- $B$: amount of Barbeque (Continuous); \n",
    "- $H$: amount  of Hearty Mushrooms (Continuous);\n",
    "- $V$: amount  of Veggie Crunch (Continuous).\n",
    "\n",
    "**Objective and constraints:**\n",
    "\n",
    "$$\\begin{aligned}\n",
    "\\text{Maximize:} && 0.22S+0.2B+0.18H+0.18V \\\\\n",
    "\\text{Subject to:} \\\\\n",
    "\\text{(Supply of Carrots)} && 2.5S+2.0B+2.5V & \\le 150000 \\\\\n",
    "\\text{(Supply of Mushrooms)} && 3S + 4H & \\le 80000 \\\\\n",
    "\\text{(Supply of Green peppers)} && 2.5S+2B+3H+2.5V & \\le 135000 \\\\\n",
    "\\text{(Supply of Broccoli)} && 2S+3B+3H+2.5V & \\le 140000 \\\\\n",
    "\\text{(Supply of Corn)} && 3B +2.5V & \\le 150000 \\\\\n",
    "\\text{} && S,B,H,V & \\ge 0\n",
    "\\end{aligned}$$"
   ]
  },
  {
   "cell_type": "markdown",
   "metadata": {},
   "source": [
    "**b)** Write Gurobi code to implement the above LP. "
   ]
  },
  {
   "cell_type": "code",
   "execution_count": 3,
   "metadata": {},
   "outputs": [
    {
     "data": {
      "text/plain": [
       "Stir Fry            0.22\n",
       "Barbeque            0.20\n",
       "Hearty Mushrooms    0.18\n",
       "Veggie Crunch       0.18\n",
       "dtype: float64"
      ]
     },
     "execution_count": 3,
     "metadata": {},
     "output_type": "execute_result"
    }
   ],
   "source": [
    "products=['Stir Fry','Barbeque','Hearty Mushrooms','Veggie Crunch']\n",
    "import pandas as pd\n",
    "earnings=pd.Series([.22,.2,.18,.18],index=products)\n",
    "earnings"
   ]
  },
  {
   "cell_type": "code",
   "execution_count": 4,
   "metadata": {},
   "outputs": [
    {
     "data": {
      "text/plain": [
       "Carrots          150000\n",
       "Mushrooms         80000\n",
       "Green peppers    135000\n",
       "Broccoli         140000\n",
       "Corn             150000\n",
       "dtype: int64"
      ]
     },
     "execution_count": 4,
     "metadata": {},
     "output_type": "execute_result"
    }
   ],
   "source": [
    "ingredients=['Carrots','Mushrooms','Green peppers','Broccoli','Corn']\n",
    "supply=pd.Series([150000,80000,135000,140000,150000],index=ingredients)\n",
    "supply"
   ]
  },
  {
   "cell_type": "code",
   "execution_count": 5,
   "metadata": {},
   "outputs": [
    {
     "data": {
      "text/html": [
       "<div>\n",
       "<style scoped>\n",
       "    .dataframe tbody tr th:only-of-type {\n",
       "        vertical-align: middle;\n",
       "    }\n",
       "\n",
       "    .dataframe tbody tr th {\n",
       "        vertical-align: top;\n",
       "    }\n",
       "\n",
       "    .dataframe thead th {\n",
       "        text-align: right;\n",
       "    }\n",
       "</style>\n",
       "<table border=\"1\" class=\"dataframe\">\n",
       "  <thead>\n",
       "    <tr style=\"text-align: right;\">\n",
       "      <th></th>\n",
       "      <th>Stir Fry</th>\n",
       "      <th>Barbeque</th>\n",
       "      <th>Hearty Mushrooms</th>\n",
       "      <th>Veggie Crunch</th>\n",
       "    </tr>\n",
       "  </thead>\n",
       "  <tbody>\n",
       "    <tr>\n",
       "      <th>Carrots</th>\n",
       "      <td>2.5</td>\n",
       "      <td>2</td>\n",
       "      <td>0</td>\n",
       "      <td>2.5</td>\n",
       "    </tr>\n",
       "    <tr>\n",
       "      <th>Mushrooms</th>\n",
       "      <td>3.0</td>\n",
       "      <td>0</td>\n",
       "      <td>4</td>\n",
       "      <td>0.0</td>\n",
       "    </tr>\n",
       "    <tr>\n",
       "      <th>Green peppers</th>\n",
       "      <td>2.5</td>\n",
       "      <td>2</td>\n",
       "      <td>3</td>\n",
       "      <td>2.5</td>\n",
       "    </tr>\n",
       "    <tr>\n",
       "      <th>Broccoli</th>\n",
       "      <td>2.0</td>\n",
       "      <td>3</td>\n",
       "      <td>3</td>\n",
       "      <td>2.5</td>\n",
       "    </tr>\n",
       "    <tr>\n",
       "      <th>Corn</th>\n",
       "      <td>0.0</td>\n",
       "      <td>3</td>\n",
       "      <td>0</td>\n",
       "      <td>2.5</td>\n",
       "    </tr>\n",
       "  </tbody>\n",
       "</table>\n",
       "</div>"
      ],
      "text/plain": [
       "               Stir Fry  Barbeque  Hearty Mushrooms  Veggie Crunch\n",
       "Carrots             2.5         2                 0            2.5\n",
       "Mushrooms           3.0         0                 4            0.0\n",
       "Green peppers       2.5         2                 3            2.5\n",
       "Broccoli            2.0         3                 3            2.5\n",
       "Corn                0.0         3                 0            2.5"
      ]
     },
     "execution_count": 5,
     "metadata": {},
     "output_type": "execute_result"
    }
   ],
   "source": [
    "usage=pd.DataFrame([[2.5,2,0,2.5],\\\n",
    "                    [3,0,4,0],\\\n",
    "                    [2.5,2,3,2.5],\\\n",
    "                    [2,3,3,2.5],\\\n",
    "                    [0,3,0,2.5]],\\\n",
    "                  index=ingredients, columns=products)\n",
    "usage"
   ]
  },
  {
   "cell_type": "code",
   "execution_count": 6,
   "metadata": {},
   "outputs": [
    {
     "name": "stdout",
     "output_type": "stream",
     "text": [
      "Maximum earning: 11813.33\n",
      "Production plan:\n",
      "\tStir Fry: 26666.67\n",
      "\tBarbeque: 18333.33\n",
      "\tHearty Mushrooms: 0.0\n",
      "\tVeggie Crunch: 12666.67\n"
     ]
    }
   ],
   "source": [
    "from gurobipy import Model,GRB\n",
    "mod=Model()\n",
    "x=mod.addVars(products)\n",
    "mod.setObjective(sum(earnings.loc[p]*x[p] for p in products),sense=GRB.MAXIMIZE)\n",
    "for i in ingredients:\n",
    "    mod.addConstr(sum(usage.loc[i,p]*x[p] for p in products)<=supply.loc[i])\n",
    "mod.setParam('OutputFlag',False) \n",
    "mod.optimize()\n",
    "print('Maximum earning:',round(mod.objval,2))\n",
    "print('Production plan:')\n",
    "for p in products:\n",
    "    print(f'\\t{p}: {round(x[p].x,2)}')"
   ]
  },
  {
   "cell_type": "markdown",
   "metadata": {},
   "source": [
    "Optimal Advertising Plan\n",
    "\n",
    "SALS Marketing Inc. is developing an advertising campaign for a large consumer goods corporation. An advertising plan specifies how many units of each kind of advertisement to purchase. SALS has promised a plan that will yield the highest possible “exposure rating,” which is a measure of the ability to reach the appropriate demographic group and generate demand. The options for advertisements with their respective costs (per unit of advertising) and per-unit exposure ratings are given in the table below (K stands for thousands).\n",
    "\n",
    "| Category | Subcategory | Cost/Unit | Exposure/Unit |\n",
    "|--|--|--|--|\n",
    "| Magazines | Literary | \\$7.5 K | 15 K |\n",
    "| ` ` | News | \\$10 K | 22.5 K |\n",
    "| ` ` | Topical | \\$15 K | 24 K |\n",
    "| Newspapers |  Morning | \\$2 K | 37.5 K |\n",
    "|` `  | Evening | \\$3 K | 75 K |\n",
    "| Television | Morning | \\$20 K | 275 K |\n",
    "| ` ` | Midday | \\$10 K | 180 K |\n",
    "| ` `  | Evening | \\$60 K | 810 K |\n",
    "| Radio | Morning | \\$15 K | 180 K |\n",
    "| ` ` | Midday | \\$15 K | 17 K |\n",
    "| ` ` | Evening | \\$10 K | 16 K |\n",
    "\n",
    "Of course, certain restrictions exist for the advertising campaign. The client corporation has budgeted 800,000 dollars for the campaign, but to restrict overexposure to any particular audience it wants no more than 300,000 dollars put into any one category (Magazine, Newspaper, etc.). Also, to ensure a broad range of exposure, at least 100,000 dollars must be spent in each category. Finally, one has to purchase an integer number of units of each kind of advertisement, as no fractional units are allowed.\n",
    "\n",
    "**a)** Formulate a linear optimization problem to determine the optimal advertising plan."
   ]
  },
  {
   "cell_type": "markdown",
   "metadata": {},
   "source": [
    "### Step 1. English Description\n",
    "\n",
    "**Decision:** How many units of each kind of advertisement to purchase.\n",
    "\n",
    "**Objective:** Maximize the total exposure rating. \n",
    "\n",
    "**Constraints:** \n",
    "\n",
    "- Not spend more than 800 K in total.\n",
    "- Spend between 100 K and 300 K in each category.\n",
    "\n",
    "### Step 2. Concrete Formulation\n",
    "\n",
    "**Decision variables:**\n",
    "\n",
    "- $M_L$, $M_N$, $M_T$: how many units of literary, news, and topical magazines to include. (Integer)\n",
    "- $N_M$, $N_E$: analogous decision variables for newspapers. (Integer)\n",
    "- $T_M$, $T_D$, $T_E$: analogous decision variables for television. (Integer)\n",
    "- $R_M$, $R_D$, $R_E$: analogous decision variables for radio. (Integer)\n",
    "\n",
    "For convenience, we measure money in thousands of dollars.\n",
    "\n",
    "**Objective and constraints:**\n",
    "\n",
    "$$\\begin{aligned}\n",
    "\\text{Maximize:} && 15M_L+22.5M_N+24M_T+37.5N_M+75N_E+  \\\\\n",
    "&& 275T_M+180T_D+810T_E+180R_M+17R_D+16R_E \\\\\n",
    "\\text{Subject to:} \\\\\n",
    "\\text{(Spending in M)} && 100\\le 7.5M_L+10M_N+15M_T &\\le 300 \\\\\n",
    "\\text{(Spending in N)} && 100 \\le 2N_M + 3N_E &\\le 300  \\\\\n",
    "\\text{(Spending in T)} && 100 \\le 20T_M+10T_D+60T_E &\\le 300 \\\\\n",
    "\\text{(Spending in R)} && 100 \\le 15R_M+15R_D+10R_E &\\le 300 \\\\\n",
    "\\text{(Total spending)} && 7.5M_L+10M_N+15M_T+3N_E+2N_M+20T_M+ \\\\ \n",
    "&& 10T_D+60T_E+15R_M+15R_D+10R_E &\\le 800\\\\\n",
    "\\text{(Non-negativity)} && M_L,M_N,M_T,\\cdots,R_E & \\ge 0\n",
    "\\end{aligned}$$"
   ]
  },
  {
   "cell_type": "markdown",
   "metadata": {},
   "source": [
    "**b)** Write Gurobi code to implement the above formulation. Your code should read in the data from the following data structures rather than hard code in the numbers. For convenience, all numerical values are in the units of K (thousands). \n",
    "\n",
    "The outputs should be in the same format as the sample outputs below. Note: Gurobi might output strangely formatted numbers like `-0`, and you can make it `0` by converting it to `int`."
   ]
  },
  {
   "cell_type": "code",
   "execution_count": 7,
   "metadata": {},
   "outputs": [
    {
     "data": {
      "text/plain": [
       "{'Magazines': ['Literary Mag.', 'News Mag.', 'Topical Mag.'],\n",
       " 'Newspapers': ['Morning News', 'Evening News'],\n",
       " 'Television': ['Morning TV', 'Midday TV', 'Evening TV'],\n",
       " 'Radio': ['Morning Radio', 'Midday Radio', 'Evening Radio']}"
      ]
     },
     "execution_count": 7,
     "metadata": {},
     "output_type": "execute_result"
    }
   ],
   "source": [
    "# Constructing the subcategories\n",
    "subcat={}\n",
    "subcat['Magazines']=['Literary Mag.','News Mag.','Topical Mag.']\n",
    "subcat['Newspapers']=['Morning News','Evening News']\n",
    "subcat['Television']=['Morning TV','Midday TV','Evening TV']\n",
    "subcat['Radio']=['Morning Radio','Midday Radio','Evening Radio']\n",
    "subcat"
   ]
  },
  {
   "cell_type": "code",
   "execution_count": 8,
   "metadata": {},
   "outputs": [
    {
     "data": {
      "text/html": [
       "<div>\n",
       "<style scoped>\n",
       "    .dataframe tbody tr th:only-of-type {\n",
       "        vertical-align: middle;\n",
       "    }\n",
       "\n",
       "    .dataframe tbody tr th {\n",
       "        vertical-align: top;\n",
       "    }\n",
       "\n",
       "    .dataframe thead th {\n",
       "        text-align: right;\n",
       "    }\n",
       "</style>\n",
       "<table border=\"1\" class=\"dataframe\">\n",
       "  <thead>\n",
       "    <tr style=\"text-align: right;\">\n",
       "      <th></th>\n",
       "      <th>Cost</th>\n",
       "      <th>Exposure</th>\n",
       "    </tr>\n",
       "  </thead>\n",
       "  <tbody>\n",
       "    <tr>\n",
       "      <th>Literary Mag.</th>\n",
       "      <td>7.5</td>\n",
       "      <td>15.0</td>\n",
       "    </tr>\n",
       "    <tr>\n",
       "      <th>News Mag.</th>\n",
       "      <td>10.0</td>\n",
       "      <td>22.5</td>\n",
       "    </tr>\n",
       "    <tr>\n",
       "      <th>Topical Mag.</th>\n",
       "      <td>15.0</td>\n",
       "      <td>24.0</td>\n",
       "    </tr>\n",
       "    <tr>\n",
       "      <th>Morning News</th>\n",
       "      <td>2.0</td>\n",
       "      <td>37.5</td>\n",
       "    </tr>\n",
       "    <tr>\n",
       "      <th>Evening News</th>\n",
       "      <td>3.0</td>\n",
       "      <td>75.0</td>\n",
       "    </tr>\n",
       "    <tr>\n",
       "      <th>Morning TV</th>\n",
       "      <td>20.0</td>\n",
       "      <td>275.0</td>\n",
       "    </tr>\n",
       "    <tr>\n",
       "      <th>Midday TV</th>\n",
       "      <td>10.0</td>\n",
       "      <td>180.0</td>\n",
       "    </tr>\n",
       "    <tr>\n",
       "      <th>Evening TV</th>\n",
       "      <td>60.0</td>\n",
       "      <td>810.0</td>\n",
       "    </tr>\n",
       "    <tr>\n",
       "      <th>Morning Radio</th>\n",
       "      <td>15.0</td>\n",
       "      <td>180.0</td>\n",
       "    </tr>\n",
       "    <tr>\n",
       "      <th>Midday Radio</th>\n",
       "      <td>15.0</td>\n",
       "      <td>17.0</td>\n",
       "    </tr>\n",
       "    <tr>\n",
       "      <th>Evening Radio</th>\n",
       "      <td>10.0</td>\n",
       "      <td>16.0</td>\n",
       "    </tr>\n",
       "  </tbody>\n",
       "</table>\n",
       "</div>"
      ],
      "text/plain": [
       "               Cost  Exposure\n",
       "Literary Mag.   7.5      15.0\n",
       "News Mag.      10.0      22.5\n",
       "Topical Mag.   15.0      24.0\n",
       "Morning News    2.0      37.5\n",
       "Evening News    3.0      75.0\n",
       "Morning TV     20.0     275.0\n",
       "Midday TV      10.0     180.0\n",
       "Evening TV     60.0     810.0\n",
       "Morning Radio  15.0     180.0\n",
       "Midday Radio   15.0      17.0\n",
       "Evening Radio  10.0      16.0"
      ]
     },
     "execution_count": 8,
     "metadata": {},
     "output_type": "execute_result"
    }
   ],
   "source": [
    "import pandas as pd\n",
    "allSubCat=subcat['Magazines']+subcat['Newspapers']+subcat['Television']+subcat['Radio']\n",
    "data=pd.DataFrame([[7.5,15],[10,22.5],[15,24],\\\n",
    "                 [2,37.5],[3,75],\n",
    "                 [20,275],[10,180],[60,810],\\\n",
    "                 [15,180],[15,17],[10,16]],\\\n",
    "                 index=allSubCat,columns=['Cost','Exposure'])\n",
    "data"
   ]
  },
  {
   "cell_type": "code",
   "execution_count": 9,
   "metadata": {},
   "outputs": [
    {
     "name": "stdout",
     "output_type": "stream",
     "text": [
      "Maximum total exposure (in thousands): 14235.0\n",
      "# of units to purchase:\n",
      "\tLiterary Mag.: 0\n",
      "\tNews Mag.: 10\n",
      "\tTopical Mag.: 0\n",
      "\tMorning News: 0\n",
      "\tEvening News: 98\n",
      "\tMorning TV: 0\n",
      "\tMidday TV: 30\n",
      "\tEvening TV: 0\n",
      "\tMorning Radio: 7\n",
      "\tMidday Radio: 0\n",
      "\tEvening Radio: 0\n"
     ]
    }
   ],
   "source": [
    "# Sample Solution\n",
    "from gurobipy import Model, GRB\n",
    "cost=data['Cost']\n",
    "exposure=data['Exposure']\n",
    "mod=Model()\n",
    "x=mod.addVars(allSubCat,vtype=GRB.INTEGER)\n",
    "mod.setObjective(sum(exposure.loc[s]*x[s] for s in allSubCat),sense=GRB.MAXIMIZE)\n",
    "for category in subcat:\n",
    "    spending=sum(cost.loc[s]*x[s] for s in subcat[category])\n",
    "    mod.addConstr(spending>=100)\n",
    "    mod.addConstr(spending<=300)\n",
    "mod.addConstr(sum(cost.loc[s]*x[s] for s in allSubCat)<=800)\n",
    "mod.setParam('outputflag',False)\n",
    "mod.optimize()\n",
    "print(f'Maximum total exposure (in thousands):',mod.objval)\n",
    "print('# of units to purchase:')\n",
    "for s in allSubCat:\n",
    "    print(f'\\t{s}: {int(x[s].x)}')"
   ]
  }
 ],
 "metadata": {
  "kernelspec": {
   "display_name": "Python 3",
   "language": "python",
   "name": "python3"
  },
  "language_info": {
   "codemirror_mode": {
    "name": "ipython",
    "version": 3
   },
   "file_extension": ".py",
   "mimetype": "text/x-python",
   "name": "python",
   "nbconvert_exporter": "python",
   "pygments_lexer": "ipython3",
   "version": "3.8.3"
  },
  "varInspector": {
   "cols": {
    "lenName": 16,
    "lenType": 16,
    "lenVar": 40
   },
   "kernels_config": {
    "python": {
     "delete_cmd_postfix": "",
     "delete_cmd_prefix": "del ",
     "library": "var_list.py",
     "varRefreshCmd": "print(var_dic_list())"
    },
    "r": {
     "delete_cmd_postfix": ") ",
     "delete_cmd_prefix": "rm(",
     "library": "var_list.r",
     "varRefreshCmd": "cat(var_dic_list()) "
    }
   },
   "types_to_exclude": [
    "module",
    "function",
    "builtin_function_or_method",
    "instance",
    "_Feature"
   ],
   "window_display": false
  }
 },
 "nbformat": 4,
 "nbformat_minor": 2
}
